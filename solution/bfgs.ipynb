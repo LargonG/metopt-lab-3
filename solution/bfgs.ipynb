{
 "cells": [
  {
   "cell_type": "code",
   "execution_count": 76,
   "outputs": [],
   "source": [
    "import numpy as np\n",
    "import matplotlib.pyplot as plt\n",
    "from sympy import *\n",
    "from numpy.linalg import norm\n",
    "import regression as reg\n",
    "from data import funcs \n",
    "import template as example"
   ],
   "metadata": {
    "collapsed": false,
    "ExecuteTime": {
     "end_time": "2023-09-15T21:58:31.101254700Z",
     "start_time": "2023-09-15T21:58:31.077166400Z"
    }
   },
   "id": "a607d737a39de626"
  },
  {
   "cell_type": "code",
   "execution_count": 77,
   "id": "initial_id",
   "metadata": {
    "collapsed": true,
    "ExecuteTime": {
     "end_time": "2023-09-15T21:58:31.115954900Z",
     "start_time": "2023-09-15T21:58:31.087217500Z"
    }
   },
   "outputs": [],
   "source": [
    "# TODO: init_point -- List[n, 1]\n",
    "# TODO: inside -- as vector\n",
    "def bfgs(f, grad, init_point, eps=1e-4, max_iter=100):\n",
    "    point = init_point\n",
    "    H = np.eye(len(point))\n",
    "    E = np.eye(len(point))\n",
    "    \n",
    "    a = Symbol('a')\n",
    "    \n",
    "    for it in range(max_iter):\n",
    "        g = grad(point)\n",
    "        p = -H.dot(g)\n",
    "        \n",
    "        print(\"g=\", norm(g))\n",
    "        print(\"p=\", p)\n",
    "        print(\"H=\", H)\n",
    "        if norm(g) < eps:\n",
    "            break\n",
    "        \n",
    "        sol = solve(simplify(f(a * p + point)).diff(), a)\n",
    "    \n",
    "        print(simplify(f(a * p + point)))\n",
    "        alpha = float(sol[0])\n",
    "            \n",
    "        new_point = point + alpha * p\n",
    "        new_grad = grad(new_point)\n",
    "        \n",
    "        s = alpha * p\n",
    "        y = new_grad - g\n",
    "        \n",
    "        rho = 1 / (y.transpose().dot(s))\n",
    "        \n",
    "        H = (E - rho * s.dot(y.transpose())).dot(H).dot(E - rho * y.dot(s.transpose())) + rho * s.dot(s.transpose())\n",
    "        point += s\n",
    "            \n",
    "    return point"
   ]
  },
  {
   "cell_type": "code",
   "execution_count": 78,
   "outputs": [],
   "source": [
    "def f(point):\n",
    "    x, y = point[0][0], point[1][0]\n",
    "    return x ** 2 - x * y + y ** 2 + 9 * x - 6 * y + 20\n",
    "\n",
    "def grad(point):\n",
    "    x, y = point[0][0], point[1][0]\n",
    "    return np.array([[2 * x - y + 9], [-x + 2 * y - 6]])"
   ],
   "metadata": {
    "collapsed": false,
    "ExecuteTime": {
     "end_time": "2023-09-15T21:58:31.121970100Z",
     "start_time": "2023-09-15T21:58:31.103259500Z"
    }
   },
   "id": "652a21fec8d2ae63"
  },
  {
   "cell_type": "code",
   "execution_count": 79,
   "outputs": [],
   "source": [
    "def create_test(func, jacobian, regression, grad):\n",
    "    def run(x: np.ndarray, y: np.ndarray, st: np.ndarray, eps: float, max_iter: int):\n",
    "        r = regression(func, x, y)\n",
    "        F = lambda betta: sum(r(betta) ** 2)\n",
    "        return bfgs(F, grad(x, jacobian, r), st, eps, max_iter)\n",
    "\n",
    "    return run"
   ],
   "metadata": {
    "collapsed": false,
    "ExecuteTime": {
     "end_time": "2023-09-15T21:58:31.135004400Z",
     "start_time": "2023-09-15T21:58:31.118962300Z"
    }
   },
   "id": "d370503f5b5aa0be"
  },
  {
   "cell_type": "code",
   "execution_count": 80,
   "outputs": [
    {
     "name": "stdout",
     "output_type": "stream",
     "text": [
      "[[0.]\n",
      " [2.]]\n",
      "g= 7.280109889280518\n",
      "p= [[-7.]\n",
      " [ 2.]]\n",
      "H= [[1. 0.]\n",
      " [0. 1.]]\n",
      "67.0*a**2 - 53.0*a + 12.0\n",
      "g= 2.4448130225195768\n",
      "p= [[-1.46107151]\n",
      " [-2.12519492]]\n",
      "H= [[0.72282245 0.41501448]\n",
      " [0.41501448 0.78547561]]\n",
      "3.54612165558928*a**2 - 5.97711071508131*a + 1.51865671641791\n",
      "g= 0.0\n",
      "p= [[-0.]\n",
      " [-0.]]\n",
      "H= [[0.66666667 0.33333333]\n",
      " [0.33333333 0.66666667]]\n",
      "[[-4.]\n",
      " [ 1.]]\n"
     ]
    }
   ],
   "source": [
    "x0 = np.array([[0.], [2.]])\n",
    "print(x0)\n",
    "epsilon = 0.001\n",
    "\n",
    "start = 0\n",
    "end = 10\n",
    "steps = 50\n",
    "test_x, test_y = example.generate_test(np.sin, start, end, steps)\n",
    "\n",
    "func, jac = funcs[\"pol\"]\n",
    "test = create_test(func, jac, reg.regression, reg.grad)\n",
    "\n",
    "betta = bfgs(f, grad, x0)\n",
    "print(betta)\n",
    "# X = np.linspace(start, end, steps)\n",
    "# Y = f(X)(betta)\n",
    "\n",
    "# example.show(test_x, test_y, X, Y)"
   ],
   "metadata": {
    "collapsed": false,
    "ExecuteTime": {
     "end_time": "2023-09-15T21:58:31.229262Z",
     "start_time": "2023-09-15T21:58:31.137010300Z"
    }
   },
   "id": "5ffb950fa93cbf8d"
  }
 ],
 "metadata": {
  "kernelspec": {
   "display_name": "Python 3",
   "language": "python",
   "name": "python3"
  },
  "language_info": {
   "codemirror_mode": {
    "name": "ipython",
    "version": 2
   },
   "file_extension": ".py",
   "mimetype": "text/x-python",
   "name": "python",
   "nbconvert_exporter": "python",
   "pygments_lexer": "ipython2",
   "version": "2.7.6"
  }
 },
 "nbformat": 4,
 "nbformat_minor": 5
}
