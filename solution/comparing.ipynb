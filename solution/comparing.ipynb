{
 "cells": [
  {
   "cell_type": "code",
   "execution_count": 108,
   "id": "initial_id",
   "metadata": {
    "collapsed": true,
    "ExecuteTime": {
     "end_time": "2023-09-22T22:05:45.537663500Z",
     "start_time": "2023-09-22T22:05:45.523626800Z"
    }
   },
   "outputs": [],
   "source": [
    "import numpy as np\n",
    "from optimize.util import optimize\n",
    "import regression as reg"
   ]
  },
  {
   "cell_type": "code",
   "execution_count": 109,
   "outputs": [
    {
     "name": "stdout",
     "output_type": "stream",
     "text": [
      "model = (<function lin_test at 0x000001978CACC3A0>, <function lin_jac at 0x000001978CACC430>)\n",
      "start =  [10000.  1000.]\n",
      "function =  <function <lambda> at 0x00000197911DD790>\n",
      "Filename: C:\\Workspace\\study\\sem-4\\metopts-labs\\lab_3\\solution\\optimize\\linear\\sgd.py\n",
      "\n",
      "Line #    Mem usage    Increment  Occurrences   Line Contents\n",
      "=============================================================\n",
      "    10    150.5 MiB    150.5 MiB           1   @profile\n",
      "    11                                         def sgd(x, y, start,\n",
      "    12                                                 eps=1e-4, learning_rate=0.01, batch_size=1,\n",
      "    13                                                 max_iter=100):\n",
      "    14    150.5 MiB      0.0 MiB           1       trace = [start]\n",
      "    15    150.5 MiB      0.0 MiB           1       iters = 0\n",
      "    16    150.5 MiB      0.0 MiB           1       start_time = time.time()\n",
      "    17    150.5 MiB      0.0 MiB           1       point = start\n",
      "    18                                         \n",
      "    19    150.5 MiB      0.0 MiB        1001       for _ in range(max_iter):\n",
      "    20    150.5 MiB      0.0 MiB        1000           x_partial, y_partial = partial(x, y, batch_size)\n",
      "    21    150.5 MiB      0.0 MiB        1000           g = lin_grad(x_partial, y_partial, point)\n",
      "    22                                         \n",
      "    23    150.5 MiB      0.0 MiB        1000           point = point - learning_rate * g\n",
      "    24                                         \n",
      "    25    150.5 MiB      0.0 MiB        1000           trace.append(point)\n",
      "    26    150.5 MiB      0.0 MiB        1000           iters += 1\n",
      "    27                                         \n",
      "    28    150.5 MiB      0.0 MiB        1000           if norm(g) < eps:\n",
      "    29                                                     break\n",
      "    30                                         \n",
      "    31    150.5 MiB      0.0 MiB           1       end_time = time.time()\n",
      "    32                                         \n",
      "    33    150.5 MiB      0.0 MiB           2       return point, ProcInfo(time=end_time - start_time,\n",
      "    34    150.5 MiB      0.0 MiB           1                              iterations=iters,\n",
      "    35    150.5 MiB      0.0 MiB           1                              points=trace\n",
      "    36                                                                    )\n",
      "\n",
      "Filename: C:\\Workspace\\study\\sem-4\\metopts-labs\\lab_3\\solution\\optimize\\linear\\adam.py\n",
      "\n",
      "Line #    Mem usage    Increment  Occurrences   Line Contents\n",
      "=============================================================\n",
      "    11    150.5 MiB    150.5 MiB           1   @profile\n",
      "    12                                         def adam(x, y, start,\n",
      "    13                                                  b1=0.9, b2=0.99,\n",
      "    14                                                  eps=1e-8, learning_rate=0.01, batch_size=1,\n",
      "    15                                                  max_iter=100):\n",
      "    16    150.5 MiB      0.0 MiB           1       trace = [start]\n",
      "    17    150.5 MiB      0.0 MiB           1       iters = 0\n",
      "    18    150.5 MiB      0.0 MiB           1       start_time = time.time()\n",
      "    19                                         \n",
      "    20    150.5 MiB      0.0 MiB           1       dim = len(start)\n",
      "    21    150.5 MiB      0.0 MiB           1       point = start\n",
      "    22                                         \n",
      "    23    150.5 MiB      0.0 MiB           1       G = np.zeros(dim)\n",
      "    24    150.5 MiB      0.0 MiB           1       v = np.zeros(dim)\n",
      "    25                                         \n",
      "    26    150.5 MiB      0.0 MiB           2       for iters in range(max_iter):\n",
      "    27    150.5 MiB      0.0 MiB           2           x_partial, y_partial = partial(x, y, batch_size)\n",
      "    28    150.5 MiB      0.0 MiB           2           g = lin_grad(x_partial, y_partial, point)\n",
      "    29                                         \n",
      "    30    150.5 MiB      0.0 MiB           2           v = b1 * v - (1 - b1) * g\n",
      "    31    150.5 MiB      0.0 MiB           2           G = b2 * G + (1 - b2) * (g ** 2)\n",
      "    32    150.5 MiB      0.0 MiB           2           delta = - learning_rate * v / (np.sqrt(G) + eps)\n",
      "    33    150.5 MiB      0.0 MiB           2           point = point + delta\n",
      "    34                                         \n",
      "    35    150.5 MiB      0.0 MiB           2           trace.append(point)\n",
      "    36                                         \n",
      "    37    150.5 MiB      0.0 MiB           2           if norm(delta) < eps:\n",
      "    38    150.5 MiB      0.0 MiB           1               break\n",
      "    39                                         \n",
      "    40    150.5 MiB      0.0 MiB           1       end_time = time.time()\n",
      "    41                                         \n",
      "    42    150.5 MiB      0.0 MiB           2       return point, ProcInfo(time=end_time - start_time,\n",
      "    43    150.5 MiB      0.0 MiB           1                              points=trace,\n",
      "    44    150.5 MiB      0.0 MiB           1                              iterations=iters)\n"
     ]
    },
    {
     "data": {
      "text/plain": "<Figure size 640x480 with 1 Axes>",
      "image/png": "[encoded data removed]"
     },
     "metadata": {},
     "output_type": "display_data"
    }
   ],
   "source": [
    "from matplotlib import pyplot as plt\n",
    "import tests as tests\n",
    "import util\n",
    "\n",
    "input = [tests.create_test(func=lambda x: util.polynomial(5)(x)(np.array([1., 0., 2., 3., 0.])),\n",
    "                           model_name='lin',\n",
    "                           point=np.array([10000.,  1000.]),\n",
    "                           params=2,\n",
    "                           begin=-2,\n",
    "                           end=2,\n",
    "                           steps=20\n",
    "                           )]\n",
    "\n",
    "iter = 0\n",
    "test = None\n",
    "for test in input:\n",
    "    print(\"model =\", test.model)\n",
    "    print(\"start = \", test.init_point)\n",
    "    print(\"function = \", test.func)\n",
    "    \n",
    "    func, jac = test.model\n",
    "    task1 = optimize(func, jac, reg.regression, reg.grad, reg.hessian, method='SGD')\n",
    "    task2 = optimize(func, jac, reg.regression, reg.grad, reg.hessian, method='ADAM')\n",
    "    \n",
    "    betta, info = task1(test.X, test.Y, test.init_point, 1e-8, 0.01, 5, 1000)\n",
    "    betta2, info2 = task2(test.X, test.Y, betta, 0.1, 0.99, 1e-3, 0.0001, 5, 1000)\n",
    "    \n",
    "    X = np.linspace(test.begin, test.end, test.steps)\n",
    "    Y = func(X)(betta)\n",
    "    \n",
    "    util.show(test.X, test.Y, X, Y)\n",
    "    plt.plot(X, func(X)(betta2), 'g-')\n",
    "    \n",
    "    iter += 1"
   ],
   "metadata": {
    "collapsed": false,
    "ExecuteTime": {
     "end_time": "2023-09-22T22:05:45.895872800Z",
     "start_time": "2023-09-22T22:05:45.533652900Z"
    }
   },
   "id": "135cb25c9f9ed9f3"
  },
  {
   "cell_type": "code",
   "execution_count": 110,
   "outputs": [
    {
     "data": {
      "text/plain": "array([8.33414867, 4.08018341])"
     },
     "execution_count": 110,
     "metadata": {},
     "output_type": "execute_result"
    }
   ],
   "source": [
    "betta"
   ],
   "metadata": {
    "collapsed": false,
    "ExecuteTime": {
     "end_time": "2023-09-22T22:05:45.912916900Z",
     "start_time": "2023-09-22T22:05:45.895872800Z"
    }
   },
   "id": "639250b1980ce1a0"
  },
  {
   "cell_type": "code",
   "execution_count": 111,
   "outputs": [
    {
     "data": {
      "text/plain": "488.8608237187293"
     },
     "execution_count": 111,
     "metadata": {},
     "output_type": "execute_result"
    }
   ],
   "source": [
    "sum((test.Y - test.model[0](test.X)(betta)) ** 2)"
   ],
   "metadata": {
    "collapsed": false,
    "ExecuteTime": {
     "end_time": "2023-09-22T22:05:45.959646Z",
     "start_time": "2023-09-22T22:05:45.911914100Z"
    }
   },
   "id": "46df8510cfdf678d"
  },
  {
   "cell_type": "code",
   "execution_count": 112,
   "outputs": [
    {
     "data": {
      "text/plain": "488.8721946079465"
     },
     "execution_count": 112,
     "metadata": {},
     "output_type": "execute_result"
    }
   ],
   "source": [
    "sum((test.Y - test.model[0](test.X)(betta2)) ** 2)"
   ],
   "metadata": {
    "collapsed": false,
    "ExecuteTime": {
     "end_time": "2023-09-22T22:05:45.960648500Z",
     "start_time": "2023-09-22T22:05:45.928568200Z"
    }
   },
   "id": "b031b00377746a49"
  },
  {
   "cell_type": "code",
   "execution_count": 112,
   "outputs": [],
   "source": [],
   "metadata": {
    "collapsed": false,
    "ExecuteTime": {
     "end_time": "2023-09-22T22:05:45.985752200Z",
     "start_time": "2023-09-22T22:05:45.942619700Z"
    }
   },
   "id": "c7a7a83a0bcd49ec"
  }
 ],
 "metadata": {
  "kernelspec": {
   "display_name": "Python 3",
   "language": "python",
   "name": "python3"
  },
  "language_info": {
   "codemirror_mode": {
    "name": "ipython",
    "version": 2
   },
   "file_extension": ".py",
   "mimetype": "text/x-python",
   "name": "python",
   "nbconvert_exporter": "python",
   "pygments_lexer": "ipython2",
   "version": "2.7.6"
  }
 },
 "nbformat": 4,
 "nbformat_minor": 5
}
