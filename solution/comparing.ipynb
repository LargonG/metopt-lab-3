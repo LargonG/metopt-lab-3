{
 "cells": [
  {
   "cell_type": "code",
   "execution_count": 1,
   "id": "initial_id",
   "metadata": {
    "collapsed": true,
    "ExecuteTime": {
     "end_time": "2023-09-22T21:24:41.962162100Z",
     "start_time": "2023-09-22T21:24:41.581081500Z"
    }
   },
   "outputs": [],
   "source": [
    "import numpy as np\n",
    "from optimize.util import optimize\n",
    "import regression as reg"
   ]
  },
  {
   "cell_type": "code",
   "execution_count": 2,
   "outputs": [
    {
     "name": "stdout",
     "output_type": "stream",
     "text": [
      "model = (<function lin_test at 0x000002857119C3A0>, <function lin_jac at 0x000002857119C430>)\n",
      "start =  [10. 10.]\n",
      "function =  <function <lambda> at 0x00000285711A5AF0>\n",
      "Filename: C:\\Workspace\\study\\sem-4\\metopts-labs\\lab_3\\solution\\optimize\\linear\\ada_grad.py\n",
      "\n",
      "Line #    Mem usage    Increment  Occurrences   Line Contents\n",
      "=============================================================\n",
      "    11    105.3 MiB    105.3 MiB           1   @profile\n",
      "    12                                         def ada_grad(x, y, start,\n",
      "    13                                                      eps=1e-4, learning_rate=0.01, batch_size=1,\n",
      "    14                                                      max_iter=100):\n",
      "    15    105.3 MiB      0.0 MiB           1       trace = [start]\n",
      "    16    105.3 MiB      0.0 MiB           1       iters = 0\n",
      "    17    105.3 MiB      0.0 MiB           1       start_time = time.time()\n",
      "    18                                         \n",
      "    19    105.3 MiB      0.0 MiB           1       dim = len(start)\n",
      "    20    105.3 MiB      0.0 MiB           1       point = start\n",
      "    21    105.3 MiB      0.0 MiB           1       G = np.zeros(dim)\n",
      "    22                                         \n",
      "    23    105.5 MiB      0.0 MiB        1001       for iters in range(max_iter):\n",
      "    24    105.5 MiB      0.1 MiB        1000           x_partial, y_partial = partial(x, y, batch_size)\n",
      "    25    105.5 MiB      0.1 MiB        1000           g = lin_grad(x_partial, y_partial, point)\n",
      "    26                                         \n",
      "    27    105.5 MiB      0.0 MiB        1000           G += g ** 2\n",
      "    28    105.5 MiB      0.0 MiB        1000           delta = - learning_rate * g / np.sqrt(G)\n",
      "    29    105.5 MiB      0.0 MiB        1000           point = point + delta\n",
      "    30                                         \n",
      "    31    105.5 MiB      0.0 MiB        1000           trace.append(point)\n",
      "    32                                         \n",
      "    33    105.5 MiB      0.0 MiB        1000           if norm(g) < eps or norm(delta) < eps:\n",
      "    34                                                     break\n",
      "    35                                         \n",
      "    36    105.5 MiB      0.0 MiB           1       end_time = time.time()\n",
      "    37                                         \n",
      "    38    105.5 MiB      0.0 MiB           2       return point, ProcInfo(time=end_time - start_time,\n",
      "    39    105.5 MiB      0.0 MiB           1                              iterations=iters,\n",
      "    40    105.5 MiB      0.0 MiB           1                              points=trace\n",
      "    41                                                                    )\n"
     ]
    },
    {
     "data": {
      "text/plain": "<Figure size 640x480 with 1 Axes>",
      "image/png": "[encoded data removed]"
     },
     "metadata": {},
     "output_type": "display_data"
    }
   ],
   "source": [
    "import tests as tests\n",
    "import util\n",
    "\n",
    "input = [tests.create_test(func=lambda x: util.polynomial(5)(x)(np.array([1., 0., 2., 3., 0.])),\n",
    "                           model_name='lin',\n",
    "                           point=np.array([10.,  10.]),\n",
    "                           params=2,\n",
    "                           begin=-2,\n",
    "                           end=2,\n",
    "                           steps=20\n",
    "                           )]\n",
    "\n",
    "iter = 0\n",
    "for test in input:\n",
    "    print(\"model =\", test.model)\n",
    "    print(\"start = \", test.init_point)\n",
    "    print(\"function = \", test.func)\n",
    "    \n",
    "    func, jac = test.model\n",
    "    task = optimize(func, jac, reg.regression, reg.grad, reg.hessian, method='ADA-GRAD')\n",
    "    \n",
    "    betta, info = task(test.X, test.Y, test.init_point, 1e-4, 1, 10, 1000)\n",
    "    \n",
    "    X = np.linspace(test.begin, test.end, test.steps)\n",
    "    Y = func(X)(betta)\n",
    "    \n",
    "    util.show(test.X, test.Y, X, Y)\n",
    "    \n",
    "    iter += 1"
   ],
   "metadata": {
    "collapsed": false,
    "ExecuteTime": {
     "end_time": "2023-09-22T21:24:43.033001800Z",
     "start_time": "2023-09-22T21:24:41.963165Z"
    }
   },
   "id": "135cb25c9f9ed9f3"
  },
  {
   "cell_type": "code",
   "execution_count": 3,
   "outputs": [
    {
     "data": {
      "text/plain": "array([7.93225693, 4.02698576])"
     },
     "execution_count": 3,
     "metadata": {},
     "output_type": "execute_result"
    }
   ],
   "source": [
    "betta"
   ],
   "metadata": {
    "collapsed": false,
    "ExecuteTime": {
     "end_time": "2023-09-22T21:24:43.084145600Z",
     "start_time": "2023-09-22T21:24:43.033001800Z"
    }
   },
   "id": "639250b1980ce1a0"
  },
  {
   "cell_type": "code",
   "execution_count": 3,
   "outputs": [],
   "source": [],
   "metadata": {
    "collapsed": false,
    "ExecuteTime": {
     "end_time": "2023-09-22T21:24:43.084145600Z",
     "start_time": "2023-09-22T21:24:43.049044Z"
    }
   },
   "id": "46df8510cfdf678d"
  }
 ],
 "metadata": {
  "kernelspec": {
   "display_name": "Python 3",
   "language": "python",
   "name": "python3"
  },
  "language_info": {
   "codemirror_mode": {
    "name": "ipython",
    "version": 2
   },
   "file_extension": ".py",
   "mimetype": "text/x-python",
   "name": "python",
   "nbconvert_exporter": "python",
   "pygments_lexer": "ipython2",
   "version": "2.7.6"
  }
 },
 "nbformat": 4,
 "nbformat_minor": 5
}
