{
 "cells": [
  {
   "cell_type": "code",
   "execution_count": 28,
   "id": "initial_id",
   "metadata": {
    "collapsed": true,
    "ExecuteTime": {
     "end_time": "2023-09-22T21:39:38.395653900Z",
     "start_time": "2023-09-22T21:39:38.373597400Z"
    }
   },
   "outputs": [],
   "source": [
    "import numpy as np\n",
    "from optimize.util import optimize\n",
    "import regression as reg"
   ]
  },
  {
   "cell_type": "code",
   "execution_count": 29,
   "outputs": [
    {
     "name": "stdout",
     "output_type": "stream",
     "text": [
      "model = (<function lin_test at 0x0000023D81CDD430>, <function lin_jac at 0x0000023D81CDD4C0>)\n",
      "start =  [1000.  100.]\n",
      "function =  <function <lambda> at 0x0000023D8661A4C0>\n",
      "Filename: C:\\Workspace\\study\\sem-4\\metopts-labs\\lab_3\\solution\\optimize\\linear\\rms_prop.py\n",
      "\n",
      "Line #    Mem usage    Increment  Occurrences   Line Contents\n",
      "=============================================================\n",
      "    11    144.7 MiB    144.7 MiB           1   @profile\n",
      "    12                                         def rms_prop(x, y, start,\n",
      "    13                                                      gamma=0.01,\n",
      "    14                                                      eps=1e-4, learning_rate=0.01, batch_size=1,\n",
      "    15                                                      max_iter=100):\n",
      "    16    144.7 MiB      0.0 MiB           1       trace = [start]\n",
      "    17    144.7 MiB      0.0 MiB           1       iters = 0\n",
      "    18    144.7 MiB      0.0 MiB           1       start_time = time.time()\n",
      "    19                                         \n",
      "    20    144.7 MiB      0.0 MiB           1       dim = len(start)\n",
      "    21    144.7 MiB      0.0 MiB           1       point = start\n",
      "    22    144.7 MiB      0.0 MiB           1       G = np.zeros(dim)\n",
      "    23                                         \n",
      "    24    144.8 MiB      0.0 MiB        1001       for iters in range(max_iter):\n",
      "    25    144.8 MiB      0.0 MiB        1000           x_partial, y_partial = partial(x, y, batch_size)\n",
      "    26    144.8 MiB      0.1 MiB        1000           g = lin_grad(x_partial, y_partial, point)\n",
      "    27                                         \n",
      "    28    144.8 MiB      0.0 MiB        1000           G = gamma * G + (1 - gamma) * (g ** 2)\n",
      "    29    144.8 MiB      0.0 MiB        1000           delta = - learning_rate * g / (np.sqrt(G) + eps)\n",
      "    30    144.8 MiB      0.0 MiB        1000           point = point + delta\n",
      "    31                                         \n",
      "    32    144.8 MiB      0.0 MiB        1000           trace.append(point)\n",
      "    33                                         \n",
      "    34    144.8 MiB      0.0 MiB        1000           if norm(g) < eps or norm(delta) < eps:\n",
      "    35                                                     break\n",
      "    36                                         \n",
      "    37    144.8 MiB      0.0 MiB           1       end_time = time.time()\n",
      "    38                                         \n",
      "    39    144.8 MiB      0.0 MiB           2       return point, ProcInfo(time=end_time - start_time,\n",
      "    40    144.8 MiB      0.0 MiB           1                              iterations=iters,\n",
      "    41    144.8 MiB      0.0 MiB           1                              points=trace\n",
      "    42                                                                    )\n"
     ]
    },
    {
     "data": {
      "text/plain": "<Figure size 640x480 with 1 Axes>",
      "image/png": "[encoded data removed]"
     },
     "metadata": {},
     "output_type": "display_data"
    }
   ],
   "source": [
    "import tests as tests\n",
    "import util\n",
    "\n",
    "input = [tests.create_test(func=lambda x: util.polynomial(5)(x)(np.array([1., 0., 2., 3., 0.])),\n",
    "                           model_name='lin',\n",
    "                           point=np.array([1000.,  100.]),\n",
    "                           params=2,\n",
    "                           begin=-2,\n",
    "                           end=2,\n",
    "                           steps=20\n",
    "                           )]\n",
    "\n",
    "iter = 0\n",
    "for test in input:\n",
    "    print(\"model =\", test.model)\n",
    "    print(\"start = \", test.init_point)\n",
    "    print(\"function = \", test.func)\n",
    "    \n",
    "    func, jac = test.model\n",
    "    task = optimize(func, jac, reg.regression, reg.grad, reg.hessian, method='RMS-PROP')\n",
    "    \n",
    "    betta, info = task(test.X, test.Y, test.init_point, 0.01, 1e-4, 1, 10, 1000)\n",
    "    \n",
    "    X = np.linspace(test.begin, test.end, test.steps)\n",
    "    Y = func(X)(betta)\n",
    "    \n",
    "    util.show(test.X, test.Y, X, Y)\n",
    "    \n",
    "    iter += 1"
   ],
   "metadata": {
    "collapsed": false,
    "ExecuteTime": {
     "end_time": "2023-09-22T21:39:38.894877400Z",
     "start_time": "2023-09-22T21:39:38.396656600Z"
    }
   },
   "id": "135cb25c9f9ed9f3"
  },
  {
   "cell_type": "code",
   "execution_count": 30,
   "outputs": [
    {
     "data": {
      "text/plain": "array([6.27940841, 2.27376168])"
     },
     "execution_count": 30,
     "metadata": {},
     "output_type": "execute_result"
    }
   ],
   "source": [
    "betta"
   ],
   "metadata": {
    "collapsed": false,
    "ExecuteTime": {
     "end_time": "2023-09-22T21:39:38.947013500Z",
     "start_time": "2023-09-22T21:39:38.896884700Z"
    }
   },
   "id": "639250b1980ce1a0"
  },
  {
   "cell_type": "code",
   "execution_count": 30,
   "outputs": [],
   "source": [],
   "metadata": {
    "collapsed": false,
    "ExecuteTime": {
     "end_time": "2023-09-22T21:39:38.948016100Z",
     "start_time": "2023-09-22T21:39:38.909916200Z"
    }
   },
   "id": "46df8510cfdf678d"
  }
 ],
 "metadata": {
  "kernelspec": {
   "display_name": "Python 3",
   "language": "python",
   "name": "python3"
  },
  "language_info": {
   "codemirror_mode": {
    "name": "ipython",
    "version": 2
   },
   "file_extension": ".py",
   "mimetype": "text/x-python",
   "name": "python",
   "nbconvert_exporter": "python",
   "pygments_lexer": "ipython2",
   "version": "2.7.6"
  }
 },
 "nbformat": 4,
 "nbformat_minor": 5
}
