{
 "cells": [
  {
   "cell_type": "code",
   "execution_count": 20,
   "id": "initial_id",
   "metadata": {
    "collapsed": true,
    "ExecuteTime": {
     "end_time": "2023-09-19T19:40:07.190312200Z",
     "start_time": "2023-09-19T19:40:07.171306700Z"
    }
   },
   "outputs": [],
   "source": [
    "import numpy as np\n",
    "from numpy.linalg import norm\n",
    "from legacy import main as legacy\n",
    "from legacy import legacy_adapter as adapter"
   ]
  },
  {
   "cell_type": "code",
   "execution_count": 21,
   "outputs": [],
   "source": [
    "def lbfgs(grad, generations, points, eps, max_iter):\n",
    "    if len(points) < generations + 1:\n",
    "        raise AttributeError(\"The length of s or y is too small\")\n",
    "    \n",
    "    E = np.eye(generations)\n",
    "    point = points[-1]\n",
    "    \n",
    "    s = [points[i] - points[i - 1] for i in range(1, generations + 1)]\n",
    "    y = [grad(points[i]) - grad(points[i - 1]) for i in range(1, generations + 1)]\n",
    "    rho = [1 / y[i] @ s[i] for i in range(generations)]\n",
    "    \n",
    "    for ki in range(0, max_iter):\n",
    "        q = grad(point)\n",
    "        g = q\n",
    "        \n",
    "        if norm(q) < eps:\n",
    "            break\n",
    "        \n",
    "        alpha = np.zeros(generations)\n",
    "        for it in range(0, generations):\n",
    "            i = generations - (it + 1)\n",
    "            alpha[i] = rho[i] * (s[i] @ q)\n",
    "            q = q - alpha[i] * y[i]\n",
    "        \n",
    "        gamma = (s[-1] @ y[-1]) / (y[-1] @ y[-1])\n",
    "        hess = gamma * E\n",
    "        \n",
    "        z = hess @ q\n",
    "        \n",
    "        betta = np.zeros(generations)\n",
    "        for i in range(0, generations):\n",
    "            betta[i] = rho[i] * (y[i] @ z)\n",
    "            z = z + s[i] * (alpha[i] - betta[i])\n",
    "        \n",
    "        # z = -H_k @ g_k\n",
    "        point += z\n",
    "        \n",
    "        s = s[1:]\n",
    "        s.append(z)\n",
    "        \n",
    "        y = y[1:]\n",
    "        y.append(grad(point) - g)\n",
    "        \n",
    "        rho = rho[1:]\n",
    "        rho.append(1 / y[-1] @ s[-1])\n",
    "        \n",
    "    return point"
   ],
   "metadata": {
    "collapsed": false,
    "ExecuteTime": {
     "end_time": "2023-09-19T19:40:07.215009900Z",
     "start_time": "2023-09-19T19:40:07.194246800Z"
    }
   },
   "id": "6fc33bb22fa18989"
  },
  {
   "cell_type": "code",
   "execution_count": 21,
   "outputs": [],
   "source": [
    "def f(point):\n",
    "    x, y = point[0], point[1]\n",
    "    return x ** 2 - x * y + y ** 2 + 9 * x - 6 * y + 20\n",
    "\n",
    "def grad(point):\n",
    "    x, y = point[0], point[1]\n",
    "    return np.array([[2 * x - y + 9], [-x + 2 * y - 6]])"
   ],
   "metadata": {
    "collapsed": false,
    "ExecuteTime": {
     "end_time": "2023-09-19T19:40:07.226391200Z",
     "start_time": "2023-09-19T19:40:07.204587Z"
    }
   },
   "id": "3babf0aabba9615a"
  },
  {
   "cell_type": "markdown",
   "source": [
    "Для нахождения первых m s и y хотелось бы использовать какие-то алгоритмы, которые могут хоть как-то приближают нас к минимуму, для этого можно\n",
    "1. Воспользоваться многочисленными вариантами градиентного спуска\n",
    "2. Запустить BFGS, но это будет не выгодно, т.к. мы изначально хотим избавиться от хранения большой матрицы, то есть мы не решаем проблему, хотя в дальнейшем нам не нужно будет каждый раз высчитывать гигантскую матрицу\n",
    "3. Powell dog leg -- звучит как что-то не то, что хотелось бы использовать\n",
    "4. G-N не та задача\n",
    "\n",
    "То есть самым лучшим вариантом остаётся градиентный спуск и его вариации"
   ],
   "metadata": {
    "collapsed": false
   },
   "id": "d1d3bea9e8a41bff"
  },
  {
   "cell_type": "code",
   "execution_count": 21,
   "outputs": [],
   "source": [],
   "metadata": {
    "collapsed": false,
    "ExecuteTime": {
     "end_time": "2023-09-19T19:40:07.239485Z",
     "start_time": "2023-09-19T19:40:07.223112900Z"
    }
   },
   "id": "582c9c98dfa1fd45"
  },
  {
   "cell_type": "code",
   "execution_count": 21,
   "outputs": [],
   "source": [],
   "metadata": {
    "collapsed": false,
    "ExecuteTime": {
     "end_time": "2023-09-19T19:40:07.254985500Z",
     "start_time": "2023-09-19T19:40:07.238482400Z"
    }
   },
   "id": "ba0a53193b20dab"
  }
 ],
 "metadata": {
  "kernelspec": {
   "display_name": "Python 3",
   "language": "python",
   "name": "python3"
  },
  "language_info": {
   "codemirror_mode": {
    "name": "ipython",
    "version": 2
   },
   "file_extension": ".py",
   "mimetype": "text/x-python",
   "name": "python",
   "nbconvert_exporter": "python",
   "pygments_lexer": "ipython2",
   "version": "2.7.6"
  }
 },
 "nbformat": 4,
 "nbformat_minor": 5
}
