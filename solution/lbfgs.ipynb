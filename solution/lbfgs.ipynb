{
 "cells": [
  {
   "cell_type": "code",
   "execution_count": 72,
   "id": "initial_id",
   "metadata": {
    "collapsed": true,
    "ExecuteTime": {
     "end_time": "2023-09-20T23:15:45.670594Z",
     "start_time": "2023-09-20T23:15:45.642086100Z"
    }
   },
   "outputs": [],
   "source": [
    "import numpy as np\n",
    "from numpy.linalg import norm\n",
    "from legacy import legacy_adapter as adapter\n",
    "from legacy import main as legacy\n",
    "import template as example\n",
    "from data import funcs\n",
    "import regression as reg\n",
    "from proc_observe import ProcInfo"
   ]
  },
  {
   "cell_type": "code",
   "execution_count": 73,
   "outputs": [],
   "source": [
    "def lbfgs(grad, generations, points, eps, max_iter):\n",
    "    if len(points) < generations + 1:\n",
    "        raise AttributeError(\"The length of s or y is too small\")\n",
    "    \n",
    "    E = np.eye(len(points[0]))\n",
    "    point = points[-1]\n",
    "    \n",
    "    s = [points[i] - points[i - 1] for i in range(1, generations + 1)] # [row(n)]\n",
    "    y = [grad(points[i]) - grad(points[i - 1]) for i in range(1, generations + 1)] # [row(n)]\n",
    "    rho = [1 / y[i] @ s[i] for i in range(generations)] # [scalar]\n",
    "    \n",
    "    print(\"s=\", s)\n",
    "    print(\"y=\", y)\n",
    "    print(\"rho=\", rho)\n",
    "    for ki in range(0, max_iter):\n",
    "        q = grad(point)\n",
    "        g = q\n",
    "        \n",
    "        if norm(q) < eps:\n",
    "            break\n",
    "        \n",
    "        alpha = np.zeros(generations)\n",
    "        for it in range(0, generations):\n",
    "            i = generations - (it + 1)\n",
    "            alpha[i] = rho[i] * (s[i] @ q)\n",
    "            q -= alpha[i] * y[i]\n",
    "        \n",
    "        gamma = (s[-1] @ y[-1]) / (y[-1] @ y[-1])\n",
    "        hess = gamma * E\n",
    "        \n",
    "        z = hess @ q\n",
    "        \n",
    "        betta = np.zeros(generations)\n",
    "        for i in range(0, generations):\n",
    "            betta[i] = rho[i] * (y[i] @ z)\n",
    "            z += s[i] * (alpha[i] - betta[i])\n",
    "        z = -z\n",
    "        # z = -H_k @ g_k\n",
    "        point += z\n",
    "        \n",
    "        if y[-1] @ s[-1] < eps:\n",
    "            continue\n",
    "        print(y[-1] @ s[-1])\n",
    "            \n",
    "        s = s[1:]\n",
    "        s.append(z)\n",
    "\n",
    "        y = y[1:]\n",
    "        y.append(grad(point) - g)\n",
    "\n",
    "        rho = rho[1:]\n",
    "        rho.append(1 / y[-1] @ s[-1])\n",
    "\n",
    "        print()\n",
    "        print(\"s=\", s)\n",
    "        print(\"y=\", y)\n",
    "        print(\"rho=\", rho)\n",
    "        \n",
    "    return point"
   ],
   "metadata": {
    "collapsed": false,
    "ExecuteTime": {
     "end_time": "2023-09-20T23:15:45.739050200Z",
     "start_time": "2023-09-20T23:15:45.647094400Z"
    }
   },
   "id": "6fc33bb22fa18989"
  },
  {
   "cell_type": "code",
   "execution_count": 74,
   "outputs": [],
   "source": [
    "def f(point):\n",
    "    x, y = point[0], point[1]\n",
    "    return x ** 2 - x * y + y ** 2 + 9 * x - 6 * y + 20\n",
    "\n",
    "def grad(point):\n",
    "    x, y = point[0], point[1]\n",
    "    return np.array([[2 * x - y + 9], [-x + 2 * y - 6]])"
   ],
   "metadata": {
    "collapsed": false,
    "ExecuteTime": {
     "end_time": "2023-09-20T23:15:45.746142300Z",
     "start_time": "2023-09-20T23:15:45.664822Z"
    }
   },
   "id": "3babf0aabba9615a"
  },
  {
   "cell_type": "markdown",
   "source": [
    "Для нахождения первых m s и y хотелось бы использовать какие-то алгоритмы, которые могут хоть как-то приближают нас к минимуму, для этого можно\n",
    "1. Воспользоваться многочисленными вариантами градиентного спуска\n",
    "2. Запустить BFGS, но это будет не выгодно, т.к. мы изначально хотим избавиться от хранения большой матрицы, то есть мы не решаем проблему, хотя в дальнейшем нам не нужно будет каждый раз высчитывать гигантскую матрицу\n",
    "3. Powell dog leg -- звучит как что-то не то, что хотелось бы использовать\n",
    "4. G-N не та задача\n",
    "\n",
    "То есть самым лучшим вариантом остаётся градиентный спуск и его вариации"
   ],
   "metadata": {
    "collapsed": false
   },
   "id": "d1d3bea9e8a41bff"
  },
  {
   "cell_type": "code",
   "execution_count": 75,
   "outputs": [],
   "source": [
    "# def create_regression_test(func, jacobian, regression, grad, legacy_linear_function=None):\n",
    "#     def run(x: np.ndarray,\n",
    "#             y: np.ndarray,\n",
    "#             start: np.ndarray,\n",
    "#             generations: int,\n",
    "#             eps: float,\n",
    "#             learning_rate,\n",
    "#             batch_size,\n",
    "#             max_iter: int):\n",
    "#         r = regression(func, x, y)\n",
    "#         g = grad(x, jacobian, r)\n",
    "#         \n",
    "#         if legacy_linear_function is not None:\n",
    "#             _, proc_info = (adapter.to_normal_function(legacy_linear_function, g)\n",
    "#                             (x, y, start, eps, learning_rate, batch_size, generations))\n",
    "#             points = proc_info.points\n",
    "#         else:\n",
    "#             t = 1\n",
    "#             points = [np.array([start[j] + float(i) * t\n",
    "#                                 for j in range(len(start))])\n",
    "#                       for i in range(generations + 1)]\n",
    "#         print(points)\n",
    "#         return lbfgs(grad(x, jacobian, r), generations, points, eps, max_iter)\n",
    "# \n",
    "#     return run"
   ],
   "metadata": {
    "collapsed": false,
    "ExecuteTime": {
     "end_time": "2023-09-20T23:15:45.746142300Z",
     "start_time": "2023-09-20T23:15:45.716825400Z"
    }
   },
   "id": "660411ca54e1ef74"
  },
  {
   "cell_type": "code",
   "execution_count": 76,
   "outputs": [],
   "source": [
    "def create_regression_test(func, jacobian, regression, grad, legacy_function=None):\n",
    "    def run(x, y, start, generations, eps, learning_rate, batch_size, max_iter):\n",
    "        r = regression(func, x, y)\n",
    "        g = grad(x, jacobian, r)\n",
    "        \n",
    "        points = [np.array([start[j] + i * 10 for j in range(len(start))])\n",
    "                  for i in range(generations + 1)]\n",
    "        return lbfgs(g, generations, points, eps, max_iter)\n",
    "    return run"
   ],
   "metadata": {
    "collapsed": false,
    "ExecuteTime": {
     "end_time": "2023-09-20T23:15:45.746142300Z",
     "start_time": "2023-09-20T23:15:45.716825400Z"
    }
   },
   "id": "9358ba5bcd0a344b"
  },
  {
   "cell_type": "code",
   "execution_count": 77,
   "outputs": [
    {
     "name": "stdout",
     "output_type": "stream",
     "text": [
      "s= [array([10., 10., 10., 10., 10.]), array([10., 10., 10., 10., 10.]), array([10., 10., 10., 10., 10.]), array([10., 10., 10., 10., 10.]), array([10., 10., 10., 10., 10.])]\n",
      "y= [array([5.31190855e+05, 4.62335482e+06, 4.14431872e+07, 3.79319377e+08,\n",
      "       3.52613919e+09]), array([5.31190855e+05, 4.62335482e+06, 4.14431872e+07, 3.79319377e+08,\n",
      "       3.52613919e+09]), array([5.31190855e+05, 4.62335482e+06, 4.14431872e+07, 3.79319377e+08,\n",
      "       3.52613919e+09]), array([5.31190855e+05, 4.62335482e+06, 4.14431872e+07, 3.79319377e+08,\n",
      "       3.52613919e+09]), array([5.31190855e+05, 4.62335482e+06, 4.14431872e+07, 3.79319377e+08,\n",
      "       3.52613919e+09])]\n",
      "rho= [2.125905000099017e-05, 2.125905000099017e-05, 2.1259050000990183e-05, 2.1259050000990166e-05, 2.125905000099016e-05]\n",
      "39520562998.95553\n",
      "\n",
      "s= [array([10., 10., 10., 10., 10.]), array([10., 10., 10., 10., 10.]), array([10., 10., 10., 10., 10.]), array([10., 10., 10., 10., 10.]), array([-8.76266527e+60, -8.76266527e+60, -8.76266527e+60, -8.76266527e+60,\n",
      "       -8.76266527e+60])]\n",
      "y= [array([5.31190855e+05, 4.62335482e+06, 4.14431872e+07, 3.79319377e+08,\n",
      "       3.52613919e+09]), array([5.31190855e+05, 4.62335482e+06, 4.14431872e+07, 3.79319377e+08,\n",
      "       3.52613919e+09]), array([5.31190855e+05, 4.62335482e+06, 4.14431872e+07, 3.79319377e+08,\n",
      "       3.52613919e+09]), array([5.31190855e+05, 4.62335482e+06, 4.14431872e+07, 3.79319377e+08,\n",
      "       3.52613919e+09]), array([-4.65464766e+65, -4.05129107e+66, -3.63152777e+67, -3.32384873e+68,\n",
      "       -3.08983774e+69])]\n",
      "rho= [2.125905000099017e-05, 2.1259050000990183e-05, 2.1259050000990166e-05, 2.125905000099016e-05, 2.125905000099017e-05]\n"
     ]
    },
    {
     "data": {
      "text/plain": "<Figure size 1000x1000 with 1 Axes>",
      "image/png": "[encoded data removed]"
     },
     "metadata": {},
     "output_type": "display_data"
    }
   ],
   "source": [
    "start = 0\n",
    "end = 10\n",
    "steps = 10\n",
    "\n",
    "test_x, test_y = example.generate_test(np.sin, start, end, steps)\n",
    "x0 = np.array([1., 0., 0., 0., 0.])\n",
    "func, jac = funcs[\"pol\"]\n",
    "test = create_regression_test(func, jac, reg.regression, reg.grad)\n",
    "\n",
    "betta = test(test_x, test_y, x0, 5, 1e-4, 0.01, 1, 1)\n",
    "\n",
    "X = np.linspace(start, end, steps)\n",
    "Y = func(X)(betta)\n",
    "\n",
    "example.show(test_x, test_y, X, Y)"
   ],
   "metadata": {
    "collapsed": false,
    "ExecuteTime": {
     "end_time": "2023-09-20T23:15:45.839429900Z",
     "start_time": "2023-09-20T23:15:45.716825400Z"
    }
   },
   "id": "582c9c98dfa1fd45"
  },
  {
   "cell_type": "code",
   "execution_count": 78,
   "outputs": [
    {
     "data": {
      "text/plain": "array([-8.76266527e+60, -8.76266527e+60, -8.76266527e+60, -8.76266527e+60,\n       -8.76266527e+60])"
     },
     "execution_count": 78,
     "metadata": {},
     "output_type": "execute_result"
    }
   ],
   "source": [
    "betta"
   ],
   "metadata": {
    "collapsed": false,
    "ExecuteTime": {
     "end_time": "2023-09-20T23:15:45.929778400Z",
     "start_time": "2023-09-20T23:15:45.832710400Z"
    }
   },
   "id": "ba0a53193b20dab"
  },
  {
   "cell_type": "code",
   "execution_count": 78,
   "outputs": [],
   "source": [],
   "metadata": {
    "collapsed": false,
    "ExecuteTime": {
     "end_time": "2023-09-20T23:15:45.937337600Z",
     "start_time": "2023-09-20T23:15:45.847033800Z"
    }
   },
   "id": "7eba478dbeab018d"
  }
 ],
 "metadata": {
  "kernelspec": {
   "display_name": "Python 3",
   "language": "python",
   "name": "python3"
  },
  "language_info": {
   "codemirror_mode": {
    "name": "ipython",
    "version": 2
   },
   "file_extension": ".py",
   "mimetype": "text/x-python",
   "name": "python",
   "nbconvert_exporter": "python",
   "pygments_lexer": "ipython2",
   "version": "2.7.6"
  }
 },
 "nbformat": 4,
 "nbformat_minor": 5
}
